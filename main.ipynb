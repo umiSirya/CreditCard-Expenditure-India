{
  "nbformat": 4,
  "nbformat_minor": 0,
  "metadata": {
    "colab": {
      "provenance": [],
      "authorship_tag": "ABX9TyP3aIEfcmOPy5dwXmP9Lhso",
      "include_colab_link": true
    },
    "kernelspec": {
      "name": "python3",
      "display_name": "Python 3"
    },
    "language_info": {
      "name": "python"
    }
  },
  "cells": [
    {
      "cell_type": "markdown",
      "metadata": {
        "id": "view-in-github",
        "colab_type": "text"
      },
      "source": [
        "<a href=\"https://colab.research.google.com/github/umiSirya/CreditCard-Expenditure-India/blob/main/main.ipynb\" target=\"_parent\"><img src=\"https://colab.research.google.com/assets/colab-badge.svg\" alt=\"Open In Colab\"/></a>"
      ]
    },
    {
      "cell_type": "code",
      "execution_count": 4,
      "metadata": {
        "colab": {
          "base_uri": "https://localhost:8080/"
        },
        "id": "0hM9fEsA5RIa",
        "outputId": "490d7822-689e-4eb9-956a-19cc7b8cf23b"
      },
      "outputs": [
        {
          "output_type": "stream",
          "name": "stdout",
          "text": [
            "Round 1:\n",
            "Rock, paper, or scissors: scissors\n",
            "Computer chose: paper\n",
            "You win this round!\n",
            "The score is User: 1 | Computer: 0\n",
            "Round 2:\n",
            "Rock, paper, or scissors: rock\n",
            "Computer chose: rock\n",
            "It's a tie!\n",
            "The score is User: 1 | Computer: 0\n",
            "Round 3:\n",
            "Rock, paper, or scissors: paper\n",
            "Computer chose: paper\n",
            "It's a tie!\n",
            "The score is User: 1 | Computer: 0\n",
            "Congratulations! You have won the game!\n"
          ]
        }
      ],
      "source": [
        "import random\n",
        "\n",
        "def get_user_choice():\n",
        "    #Prompt the user to enter their choice\n",
        "        user_choice = input('Rock, paper, or scissors: ').lower()\n",
        "        if user_choice in ['rock', 'paper', 'scissors']:\n",
        "            return user_choice\n",
        "        else:\n",
        "            print(\"Invalid input. Please enter 'rock', 'paper', or 'scissors'.\")\n",
        "\n",
        "def game(user_choice):\n",
        "    #Generates a random computer choice\n",
        "    comp_choice = random.choice(['rock', 'paper', 'scissors'])\n",
        "    print(f'Computer chose: {comp_choice}')\n",
        "\n",
        "    # Compare user's choice vs computer's choice to determine the winner\n",
        "    if user_choice == comp_choice:\n",
        "        return \"tie\"\n",
        "    elif (user_choice == \"rock\" and comp_choice == \"scissors\") or \\\n",
        "         (user_choice == \"scissors\" and comp_choice == \"paper\") or \\\n",
        "         (user_choice == \"paper\" and comp_choice == \"rock\"):\n",
        "        return \"user\"\n",
        "    else:\n",
        "        return \"computer\"\n",
        "\n",
        "def rounds(total_rounds=3):\n",
        "    #keeps track of the scores during different rounds\n",
        "    user_score = 0\n",
        "    comp_score = 0\n",
        "\n",
        "    # Loop through the number of rounds\n",
        "    for round_number in range(1, total_rounds +1):\n",
        "        print(f\"Round {round_number}:\")\n",
        "        user_choice = get_user_choice()\n",
        "\n",
        "        # Get the result of the current round\n",
        "        winner = game(user_choice)\n",
        "\n",
        "        if winner == \"user\":\n",
        "            user_score += 1\n",
        "            print(\"You win this round!\")\n",
        "        elif winner == \"computer\":\n",
        "            comp_score += 1\n",
        "            print(\"Computer wins this round!\")\n",
        "        else:\n",
        "            print(\"It's a tie!\")\n",
        "\n",
        "        print(f\"The score is User: {user_score} | Computer: {comp_score}\")\n",
        "\n",
        "    # tells us who the overall winner is\n",
        "    if user_score > comp_score:\n",
        "        print(\"Congratulations! You have won the game!\")\n",
        "    elif comp_score > user_score:\n",
        "        print(\"Computer has won the game!\")\n",
        "    else:\n",
        "        print(\"\\nThe game is a tie!\")\n",
        "\n",
        "#This game runs 3 rounds\n",
        "rounds(total_rounds=3)"
      ]
    }
  ]
}