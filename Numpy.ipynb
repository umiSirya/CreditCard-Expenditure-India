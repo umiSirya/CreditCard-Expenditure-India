{
  "nbformat": 4,
  "nbformat_minor": 0,
  "metadata": {
    "colab": {
      "provenance": [],
      "authorship_tag": "ABX9TyMHYYprgmcs2HKRi/MbTXbD",
      "include_colab_link": true
    },
    "kernelspec": {
      "name": "python3",
      "display_name": "Python 3"
    },
    "language_info": {
      "name": "python"
    }
  },
  "cells": [
    {
      "cell_type": "markdown",
      "metadata": {
        "id": "view-in-github",
        "colab_type": "text"
      },
      "source": [
        "<a href=\"https://colab.research.google.com/github/umiSirya/Python-Data-Analysis/blob/main/Numpy.ipynb\" target=\"_parent\"><img src=\"https://colab.research.google.com/assets/colab-badge.svg\" alt=\"Open In Colab\"/></a>"
      ]
    },
    {
      "cell_type": "code",
      "execution_count": 1,
      "metadata": {
        "colab": {
          "base_uri": "https://localhost:8080/"
        },
        "id": "0rTHVuctTKfo",
        "outputId": "738fce4c-ccc1-49f9-e41f-df6d87746400"
      },
      "outputs": [
        {
          "output_type": "stream",
          "name": "stdout",
          "text": [
            "Requirement already satisfied: numpy in /usr/local/lib/python3.10/dist-packages (1.26.4)\n"
          ]
        }
      ],
      "source": [
        "!pip install numpy\n"
      ]
    },
    {
      "cell_type": "code",
      "source": [
        "import numpy as np\n",
        "np.__version__\n",
        "np?"
      ],
      "metadata": {
        "id": "MUBkO_o3Ukma"
      },
      "execution_count": 3,
      "outputs": []
    },
    {
      "cell_type": "code",
      "source": [
        "x = [1,2,3,4]\n",
        "print(type(x))\n",
        "\n",
        "x = np.array(x)\n",
        "print(type(x))"
      ],
      "metadata": {
        "colab": {
          "base_uri": "https://localhost:8080/"
        },
        "id": "ejlaqG5jZYwD",
        "outputId": "b7a8b880-2358-4d65-e7d3-0e2c766532eb"
      },
      "execution_count": 6,
      "outputs": [
        {
          "output_type": "stream",
          "name": "stdout",
          "text": [
            "<class 'list'>\n",
            "<class 'numpy.ndarray'>\n"
          ]
        }
      ]
    },
    {
      "cell_type": "code",
      "source": [
        "list_1D = [1,2,3,4]\n",
        "list_2D = [[1,2,3,4]]\n",
        "list_3D = [[[1,2,3,4]]]\n",
        "\n",
        "array_3D=np.array(list_3D)\n",
        "print(array_3D)"
      ],
      "metadata": {
        "colab": {
          "base_uri": "https://localhost:8080/"
        },
        "id": "ZdBvy7OUaP-O",
        "outputId": "97e41020-6bc1-4bea-ce5f-f93d4ef38b58"
      },
      "execution_count": 9,
      "outputs": [
        {
          "output_type": "stream",
          "name": "stdout",
          "text": [
            "[[[1 2 3 4]]]\n"
          ]
        }
      ]
    },
    {
      "cell_type": "code",
      "source": [
        "list=[1,2,'Naomi']\n",
        "array= np.array(list)\n",
        "print(array)\n",
        "\n",
        "arr = np.arange(10)\n",
        "print(arr)\n",
        "print(type(arr))"
      ],
      "metadata": {
        "colab": {
          "base_uri": "https://localhost:8080/"
        },
        "id": "mcIHoa3-dSiG",
        "outputId": "a6d066c0-effb-47b4-d7b1-7b45db3ed46c"
      },
      "execution_count": 11,
      "outputs": [
        {
          "output_type": "stream",
          "name": "stdout",
          "text": [
            "['1' '2' 'Naomi']\n",
            "10\n",
            "<class 'numpy.ndarray'>\n"
          ]
        }
      ]
    },
    {
      "cell_type": "code",
      "source": [],
      "metadata": {
        "id": "mXEKaBQiehy_"
      },
      "execution_count": null,
      "outputs": []
    },
    {
      "cell_type": "code",
      "source": [
        "arr = np.arange(2,10)\n",
        "print(arr)\n",
        "print(type(arr))"
      ],
      "metadata": {
        "colab": {
          "base_uri": "https://localhost:8080/"
        },
        "outputId": "ff9313fa-5e9e-412d-9d24-94127102cd96",
        "id": "f298DmCYelJo"
      },
      "execution_count": 14,
      "outputs": [
        {
          "output_type": "stream",
          "name": "stdout",
          "text": [
            "[2 3 4 5 6 7 8 9]\n",
            "<class 'numpy.ndarray'>\n"
          ]
        }
      ]
    },
    {
      "cell_type": "code",
      "source": [],
      "metadata": {
        "id": "HCH5Pcrfehl7"
      },
      "execution_count": null,
      "outputs": []
    },
    {
      "cell_type": "code",
      "source": [
        "arr = np.arange(2,10,2)\n",
        "print(arr)\n",
        "print(type(arr))"
      ],
      "metadata": {
        "colab": {
          "base_uri": "https://localhost:8080/"
        },
        "outputId": "ca45ebee-5a54-4317-d30f-3d1bee6bd979",
        "id": "Ico7BtXjexAG"
      },
      "execution_count": 15,
      "outputs": [
        {
          "output_type": "stream",
          "name": "stdout",
          "text": [
            "[2 4 6 8]\n",
            "<class 'numpy.ndarray'>\n"
          ]
        }
      ]
    },
    {
      "cell_type": "code",
      "source": [],
      "metadata": {
        "id": "V96TE5N2fMOt"
      },
      "execution_count": null,
      "outputs": []
    },
    {
      "cell_type": "code",
      "source": [
        "arr = np.linspace(1,4,6)\n",
        "print(arr)\n",
        "print(type(arr))"
      ],
      "metadata": {
        "colab": {
          "base_uri": "https://localhost:8080/"
        },
        "outputId": "9d8c33e4-89e0-4351-9b11-b2fdf3323369",
        "id": "_tWFiaoVfMme"
      },
      "execution_count": 18,
      "outputs": [
        {
          "output_type": "stream",
          "name": "stdout",
          "text": [
            "[1.  1.6 2.2 2.8 3.4 4. ]\n",
            "<class 'numpy.ndarray'>\n"
          ]
        }
      ]
    },
    {
      "cell_type": "code",
      "source": [
        "arr = np.arange(4,3,3),3\n",
        "print(arr)\n",
        "print(type(arr))"
      ],
      "metadata": {
        "colab": {
          "base_uri": "https://localhost:8080/"
        },
        "outputId": "ca45ebee-5a54-4317-d30f-3d1bee6bd979",
        "id": "u7l_kNudgvqH"
      },
      "execution_count": null,
      "outputs": [
        {
          "output_type": "stream",
          "name": "stdout",
          "text": [
            "[2 4 6 8]\n",
            "<class 'numpy.ndarray'>\n"
          ]
        }
      ]
    },
    {
      "cell_type": "code",
      "source": [],
      "metadata": {
        "id": "x3iRwnU9jYP_"
      },
      "execution_count": null,
      "outputs": []
    },
    {
      "cell_type": "code",
      "source": [
        "#Generates numbers between 0 and 1\n",
        "arr = np.random.random((2,4))\n",
        "print(arr)\n",
        "print(type(arr))\n",
        "\n",
        "#Generates whole numbers\n",
        "arr = np.random.randint((2,4))\n",
        "print(arr)\n",
        "print(type(arr))"
      ],
      "metadata": {
        "colab": {
          "base_uri": "https://localhost:8080/"
        },
        "outputId": "68f79809-d15b-4cb5-b3fd-d55e3d0c0505",
        "id": "b9iYS_n0jYp6"
      },
      "execution_count": 22,
      "outputs": [
        {
          "output_type": "stream",
          "name": "stdout",
          "text": [
            "[[0.70831549 0.11851684 0.19132337 0.52471948]\n",
            " [0.06911138 0.67593428 0.54081789 0.47195312]]\n",
            "<class 'numpy.ndarray'>\n",
            "[0 2]\n",
            "<class 'numpy.ndarray'>\n"
          ]
        }
      ]
    },
    {
      "cell_type": "code",
      "source": [
        "np.array([1,2,5])"
      ],
      "metadata": {
        "colab": {
          "base_uri": "https://localhost:8080/"
        },
        "id": "GNi6Gnl7red_",
        "outputId": "cf40dbad-c838-4ecd-aca7-2db5451b7b09"
      },
      "execution_count": 23,
      "outputs": [
        {
          "output_type": "execute_result",
          "data": {
            "text/plain": [
              "array([1, 2, 5])"
            ]
          },
          "metadata": {},
          "execution_count": 23
        }
      ]
    },
    {
      "cell_type": "code",
      "source": [
        "mat = np.array([[[1,2,3],[3,4,5],[6,7,8]]], dtype=int)\n",
        "print(mat)"
      ],
      "metadata": {
        "colab": {
          "base_uri": "https://localhost:8080/"
        },
        "id": "xEPbMsEKrpoU",
        "outputId": "1277bc8e-213a-4949-9dff-3faa3ff876b0"
      },
      "execution_count": 24,
      "outputs": [
        {
          "output_type": "stream",
          "name": "stdout",
          "text": [
            "[[[1 2 3]\n",
            "  [3 4 5]\n",
            "  [6 7 8]]]\n"
          ]
        }
      ]
    },
    {
      "cell_type": "code",
      "source": [
        "print('No of Dimensions',mat.ndim)\n",
        "print('/n')"
      ],
      "metadata": {
        "colab": {
          "base_uri": "https://localhost:8080/"
        },
        "id": "VWYHAN-QsRUx",
        "outputId": "2654d5c7-6bc5-41e3-c960-4123e259cae0"
      },
      "execution_count": 26,
      "outputs": [
        {
          "output_type": "stream",
          "name": "stdout",
          "text": [
            "No of Dimensions 3\n",
            "/n\n"
          ]
        }
      ]
    },
    {
      "cell_type": "code",
      "source": [
        "int_arr = np.array([1,2,3], dtype=np.int32)\n",
        "print(int_arr)\n",
        "print(type(int_arr))\n",
        "print(type(int_arr.dtype))"
      ],
      "metadata": {
        "colab": {
          "base_uri": "https://localhost:8080/"
        },
        "id": "pWHogdkcugEA",
        "outputId": "1a50aa18-b908-4747-e614-4d9f8c0df283"
      },
      "execution_count": 29,
      "outputs": [
        {
          "output_type": "stream",
          "name": "stdout",
          "text": [
            "[1 2 3]\n",
            "<class 'numpy.ndarray'>\n",
            "<class 'numpy.dtypes.Int32DType'>\n"
          ]
        }
      ]
    },
    {
      "cell_type": "code",
      "source": [
        "float_arr = np.array([1,2,3], dtype=np.int32)\n",
        "print(float_arr)\n",
        "print(type(float_arr))\n",
        "print(type(float_arr.dtype))"
      ],
      "metadata": {
        "colab": {
          "base_uri": "https://localhost:8080/"
        },
        "id": "GHYJV6nTw569",
        "outputId": "708866c0-1ed0-478a-cd4e-0e3d1245a22f"
      },
      "execution_count": 30,
      "outputs": [
        {
          "output_type": "stream",
          "name": "stdout",
          "text": [
            "[1 2 3]\n",
            "<class 'numpy.ndarray'>\n",
            "<class 'numpy.dtypes.Int32DType'>\n"
          ]
        }
      ]
    },
    {
      "cell_type": "code",
      "source": [
        "bool_arr = np.array([True,False,True], dtype=bool)\n",
        "print(bool_arr)\n",
        "print(type(bool_arr))\n",
        "print(type(bool_arr.dtype))"
      ],
      "metadata": {
        "colab": {
          "base_uri": "https://localhost:8080/"
        },
        "id": "TF64MerWxYm7",
        "outputId": "17a401c7-b07e-4433-e9dd-c22a79cb3818"
      },
      "execution_count": 31,
      "outputs": [
        {
          "output_type": "stream",
          "name": "stdout",
          "text": [
            "[ True False  True]\n",
            "<class 'numpy.ndarray'>\n",
            "<class 'numpy.dtypes.BoolDType'>\n"
          ]
        }
      ]
    },
    {
      "cell_type": "code",
      "source": [
        "complex_arr = np.array([1+2j,3-4j], dtype=np.complex128)\n",
        "print(complex_arr)\n",
        "print(type(complex_arr))\n",
        "print(type(complex_arr.dtype))"
      ],
      "metadata": {
        "colab": {
          "base_uri": "https://localhost:8080/"
        },
        "id": "ZWsbW4jsxxpE",
        "outputId": "cc0a6f3c-ec77-4cb0-f29f-d86bf78a64ad"
      },
      "execution_count": 32,
      "outputs": [
        {
          "output_type": "stream",
          "name": "stdout",
          "text": [
            "[1.+2.j 3.-4.j]\n",
            "<class 'numpy.ndarray'>\n",
            "<class 'numpy.dtypes.Complex128DType'>\n"
          ]
        }
      ]
    },
    {
      "cell_type": "code",
      "source": [
        "arr =np.array([[1,2,3,4,5],[6,7,8,9,10]])\n",
        "print(arr.shape)\n",
        "print(arr)\n",
        "\n",
        "arr2=arr.reshape(5,2)\n",
        "arr2"
      ],
      "metadata": {
        "colab": {
          "base_uri": "https://localhost:8080/"
        },
        "id": "m7ibPoLZ2Vmn",
        "outputId": "381ddb8f-1792-420f-cfb5-ad8da0f79c52"
      },
      "execution_count": 36,
      "outputs": [
        {
          "output_type": "stream",
          "name": "stdout",
          "text": [
            "(2, 5)\n",
            "[[ 1  2  3  4  5]\n",
            " [ 6  7  8  9 10]]\n"
          ]
        },
        {
          "output_type": "execute_result",
          "data": {
            "text/plain": [
              "array([[ 1,  2],\n",
              "       [ 3,  4],\n",
              "       [ 5,  6],\n",
              "       [ 7,  8],\n",
              "       [ 9, 10]])"
            ]
          },
          "metadata": {},
          "execution_count": 36
        }
      ]
    },
    {
      "cell_type": "code",
      "source": [
        "#flattens the the array into 1D array\n",
        "arr3=arr.reshape(-1)\n",
        "arr3"
      ],
      "metadata": {
        "colab": {
          "base_uri": "https://localhost:8080/"
        },
        "id": "n8b8KUrl3etS",
        "outputId": "8ccb79f6-3f82-4bbe-956a-843593dd838f"
      },
      "execution_count": 38,
      "outputs": [
        {
          "output_type": "execute_result",
          "data": {
            "text/plain": [
              "array([ 1,  2,  3,  4,  5,  6,  7,  8,  9, 10])"
            ]
          },
          "metadata": {},
          "execution_count": 38
        }
      ]
    },
    {
      "cell_type": "code",
      "source": [
        "#creates a row vector\n",
        "arr5=arr.reshape(1,-1)\n",
        "arr5"
      ],
      "metadata": {
        "colab": {
          "base_uri": "https://localhost:8080/"
        },
        "id": "EpwsFW6Y38QA",
        "outputId": "4913d7bb-24d1-4232-8797-2d138d305343"
      },
      "execution_count": 39,
      "outputs": [
        {
          "output_type": "execute_result",
          "data": {
            "text/plain": [
              "array([[ 1,  2,  3,  4,  5,  6,  7,  8,  9, 10]])"
            ]
          },
          "metadata": {},
          "execution_count": 39
        }
      ]
    },
    {
      "cell_type": "code",
      "source": [
        "#creaTES a column vector\n",
        "arr5=arr.reshape(-1,1)\n",
        "arr5"
      ],
      "metadata": {
        "id": "GAmVNhP64ese"
      },
      "execution_count": null,
      "outputs": []
    }
  ]
}